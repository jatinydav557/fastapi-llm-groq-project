{
 "cells": [
  {
   "cell_type": "code",
   "execution_count": 1,
   "id": "78811f30",
   "metadata": {},
   "outputs": [
    {
     "data": {
      "text/plain": [
       "'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'"
      ]
     },
     "execution_count": 1,
     "metadata": {},
     "output_type": "execute_result"
    }
   ],
   "source": [
    "import os \n",
    "from dotenv import load_dotenv\n",
    "load_dotenv()\n",
    "\n",
    "groq_api_key = os.getenv('GROQ_API_KEY')\n",
    "groq_api_key"
   ]
  },
  {
   "cell_type": "code",
   "execution_count": 3,
   "metadata": {},
   "outputs": [
    {
     "data": {
      "text/plain": [
       "ChatGroq(client=<groq.resources.chat.completions.Completions object at 0x0000017102144B30>, async_client=<groq.resources.chat.completions.AsyncCompletions object at 0x0000017107C53020>, model_name='gemma2-9b-it', model_kwargs={}, groq_api_key=SecretStr('**********'))"
      ]
     },
     "execution_count": 3,
     "metadata": {},
     "output_type": "execute_result"
    }
   ],
   "source": [
    "from langchain_groq import ChatGroq\n",
    "model =ChatGroq(model = \"gemma2-9b-it\",groq_api_key=groq_api_key)\n",
    "model"
   ]
  },
  {
   "cell_type": "code",
   "execution_count": 4,
   "id": "b2248f17",
   "metadata": {},
   "outputs": [
    {
     "data": {
      "text/plain": [
       "AIMessage(content='Hola, ¿cómo estás? \\n\\n\\nThis is a common and friendly way to greet someone in Spanish. \\n', additional_kwargs={}, response_metadata={'token_usage': {'completion_tokens': 25, 'prompt_tokens': 21, 'total_tokens': 46, 'completion_time': 0.045454545, 'prompt_time': 0.002127192, 'queue_time': 0.249225727, 'total_time': 0.047581737}, 'model_name': 'gemma2-9b-it', 'system_fingerprint': 'fp_10c08bf97d', 'finish_reason': 'stop', 'logprobs': None}, id='run--b7f23f19-8765-4137-b3e7-a5a220c7371f-0', usage_metadata={'input_tokens': 21, 'output_tokens': 25, 'total_tokens': 46})"
      ]
     },
     "execution_count": 4,
     "metadata": {},
     "output_type": "execute_result"
    }
   ],
   "source": [
    "from langchain_core.messages import HumanMessage,SystemMessage\n",
    "\n",
    "messeges = [\n",
    "    SystemMessage(content=\"Translate the following from English to Spanish\"),\n",
    "    HumanMessage(content=\"Hello How are you?\")\n",
    "]\n",
    "\n",
    "model.invoke(messeges)"
   ]
  },
  {
   "cell_type": "code",
   "execution_count": 5,
   "id": "1f4fae89",
   "metadata": {},
   "outputs": [
    {
     "data": {
      "text/plain": [
       "AIMessage(content=\"Here's the translation:\\n\\n**Formal:**\\n\\n* **Hola. ¿Cómo está?** (singular)\\n* **Hola. ¿Cómo están?** (plural)\\n\\n**Informal:**\\n\\n* **Hola. ¿Cómo estás?** (singular, with someone you know well)\\n* **Hola. ¿Cómo están?** (plural, with people you know well) \\n\\n\\nLet me know if you have any other phrases you'd like translated!\\n\", additional_kwargs={}, response_metadata={'token_usage': {'completion_tokens': 98, 'prompt_tokens': 21, 'total_tokens': 119, 'completion_time': 0.178181818, 'prompt_time': 0.002258602, 'queue_time': 0.241484448, 'total_time': 0.18044042}, 'model_name': 'gemma2-9b-it', 'system_fingerprint': 'fp_10c08bf97d', 'finish_reason': 'stop', 'logprobs': None}, id='run--ab18fb38-ad1c-4bc2-bb1d-ac6d2e771dba-0', usage_metadata={'input_tokens': 21, 'output_tokens': 98, 'total_tokens': 119})"
      ]
     },
     "execution_count": 5,
     "metadata": {},
     "output_type": "execute_result"
    }
   ],
   "source": [
    "result  = model.invoke(messeges)\n",
    "result"
   ]
  },
  {
   "cell_type": "code",
   "execution_count": 6,
   "id": "851da586",
   "metadata": {},
   "outputs": [
    {
     "data": {
      "text/plain": [
       "\"Here's the translation:\\n\\n**Formal:**\\n\\n* **Hola. ¿Cómo está?** (singular)\\n* **Hola. ¿Cómo están?** (plural)\\n\\n**Informal:**\\n\\n* **Hola. ¿Cómo estás?** (singular, with someone you know well)\\n* **Hola. ¿Cómo están?** (plural, with people you know well) \\n\\n\\nLet me know if you have any other phrases you'd like translated!\\n\""
      ]
     },
     "execution_count": 6,
     "metadata": {},
     "output_type": "execute_result"
    }
   ],
   "source": [
    "from langchain_core.output_parsers import StrOutputParser\n",
    "parser = StrOutputParser()\n",
    "parser.invoke(result)"
   ]
  },
  {
   "cell_type": "code",
   "execution_count": 7,
   "id": "b2882b4d",
   "metadata": {},
   "outputs": [
    {
     "data": {
      "text/plain": [
       "'Here are a few ways to say \"Hello, How are you?\" in Spanish:\\n\\n**Formal:**\\n\\n* **Hola, ¿cómo está?** (This is used when addressing someone you don\\'t know well or someone older than you.)\\n\\n**Informal:**\\n\\n* **Hola, ¿cómo estás?** (This is used when addressing someone you know well, like a friend or family member.) \\n* **Hola, ¿cómo te va?** (This is another informal way to ask how someone is doing.)\\n\\nLet me know if you\\'d like to see more variations! \\n\\n\\n'"
      ]
     },
     "execution_count": 7,
     "metadata": {},
     "output_type": "execute_result"
    }
   ],
   "source": [
    "###USing LECL \n",
    "chain = model|parser\n",
    "chain.invoke(messeges)"
   ]
  },
  {
   "cell_type": "code",
   "execution_count": null,
   "id": "0abd9517",
   "metadata": {},
   "outputs": [],
   "source": [
    "### Prompt templates\n",
    "from langchain_core.prompts import ChatPromptTemplate\n",
    "\n",
    "system_template = \"Translate the following into {language}:\"\n",
    "\n",
    "prompt_template = ChatPromptTemplate.from_messages(\n",
    "    [(\"system\",system_template),(\"user\",\"{text}\")]\n",
    ")"
   ]
  },
  {
   "cell_type": "code",
   "execution_count": null,
   "id": "6e160778",
   "metadata": {},
   "outputs": [],
   "source": [
    "result = prompt_template.invoke({\"language\":\"French\",\"text\":\"Hello\"})"
   ]
  },
  {
   "cell_type": "code",
   "execution_count": 11,
   "id": "4cd79512",
   "metadata": {},
   "outputs": [
    {
     "data": {
      "text/plain": [
       "[SystemMessage(content='Translate the following into French:', additional_kwargs={}, response_metadata={}),\n",
       " HumanMessage(content='Hello', additional_kwargs={}, response_metadata={})]"
      ]
     },
     "execution_count": 11,
     "metadata": {},
     "output_type": "execute_result"
    }
   ],
   "source": [
    "result.to_messages()"
   ]
  },
  {
   "cell_type": "code",
   "execution_count": 12,
   "id": "2adae575",
   "metadata": {},
   "outputs": [],
   "source": [
    "chain = prompt|model|parser\n"
   ]
  },
  {
   "cell_type": "code",
   "execution_count": 13,
   "id": "cf8aa57e",
   "metadata": {},
   "outputs": [
    {
     "data": {
      "text/plain": [
       "'Bonjour \\n'"
      ]
     },
     "execution_count": 13,
     "metadata": {},
     "output_type": "execute_result"
    }
   ],
   "source": [
    "chain.invoke({\"language\":\"French\",\"text\":\"Hello\"})"
   ]
  },
  {
   "cell_type": "code",
   "execution_count": null,
   "id": "8aa31707",
   "metadata": {},
   "outputs": [],
   "source": []
  }
 ],
 "metadata": {
  "kernelspec": {
   "display_name": "venv",
   "language": "python",
   "name": "python3"
  },
  "language_info": {
   "codemirror_mode": {
    "name": "ipython",
    "version": 3
   },
   "file_extension": ".py",
   "mimetype": "text/x-python",
   "name": "python",
   "nbconvert_exporter": "python",
   "pygments_lexer": "ipython3",
   "version": "3.12.10"
  }
 },
 "nbformat": 4,
 "nbformat_minor": 5
}
